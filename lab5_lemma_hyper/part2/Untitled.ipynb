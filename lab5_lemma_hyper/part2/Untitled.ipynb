{
 "cells": [
  {
   "cell_type": "markdown",
   "metadata": {},
   "source": [
    "В самом ноутбуке поменяла сохранение в JSON формат, чтобы было так же как в файле примере data_network(индексы слов в link, link => edge и тд)\n",
    "Этот ноутбук сохраняет все слова и все связи, а не только первые"
   ]
  },
  {
   "cell_type": "code",
   "execution_count": 1,
   "metadata": {},
   "outputs": [],
   "source": [
    "from nltk.corpus import wordnet as wn"
   ]
  },
  {
   "cell_type": "code",
   "execution_count": 2,
   "metadata": {},
   "outputs": [],
   "source": [
    "def closure_graph(synset,fn):\n",
    "    seen = set()\n",
    "    node = set()\n",
    "    edge = list()\n",
    "    def recurse(s):\n",
    "        if not s in seen:\n",
    "            seen.add(s)\n",
    "            print(s.lemma_names('eng')[0])\n",
    "            for i in range(len(s.lemma_names('eng'))):\n",
    "                node.add(s.lemma_names('eng')[i])\n",
    "            for s1 in fn(s):\n",
    "                for i in range(len(s1.lemma_names('eng'))):\n",
    "                    node.add(s1.lemma_names('eng')[i])\n",
    "                for i in range(len(s.lemma_names('eng'))):\n",
    "                    for j in range(len(s1.lemma_names('eng'))):\n",
    "                        edge.append({\"source\":s.lemma_names('eng')[i],\"target\":s1.lemma_names('eng')[j]})\n",
    "                        recurse(s1)\n",
    "    recurse(synset)\n",
    "    return (list(node),edge)"
   ]
  },
  {
   "cell_type": "code",
   "execution_count": 3,
   "metadata": {},
   "outputs": [
    {
     "name": "stdout",
     "output_type": "stream",
     "text": [
      "dog\n",
      "canine\n",
      "carnivore\n",
      "placental\n",
      "mammal\n",
      "vertebrate\n",
      "chordate\n",
      "animal\n",
      "organism\n",
      "living_thing\n",
      "whole\n",
      "object\n",
      "physical_entity\n",
      "entity\n",
      "domestic_animal\n"
     ]
    }
   ],
   "source": [
    "import json\n",
    "dog = wn.synset('dog.n.01')\n",
    "graph = closure_graph(dog,lambda s: s.hypernyms())"
   ]
  },
  {
   "cell_type": "code",
   "execution_count": 4,
   "metadata": {},
   "outputs": [
    {
     "name": "stdout",
     "output_type": "stream",
     "text": [
      "[{'id': 0, 'name': 'dog'}, {'id': 1, 'name': 'animate_being'}, {'id': 2, 'name': 'domestic_animal'}, {'id': 3, 'name': 'creature'}, {'id': 4, 'name': 'craniate'}, {'id': 5, 'name': 'canine'}, {'id': 6, 'name': 'vertebrate'}, {'id': 7, 'name': 'physical_entity'}, {'id': 8, 'name': 'domesticated_animal'}, {'id': 9, 'name': 'placental_mammal'}, {'id': 10, 'name': 'animate_thing'}, {'id': 11, 'name': 'whole'}, {'id': 12, 'name': 'object'}, {'id': 13, 'name': 'eutherian_mammal'}, {'id': 14, 'name': 'carnivore'}, {'id': 15, 'name': 'brute'}, {'id': 16, 'name': 'unit'}, {'id': 17, 'name': 'canid'}, {'id': 18, 'name': 'beast'}, {'id': 19, 'name': 'being'}, {'id': 20, 'name': 'placental'}, {'id': 21, 'name': 'animal'}, {'id': 22, 'name': 'fauna'}, {'id': 23, 'name': 'mammalian'}, {'id': 24, 'name': 'chordate'}, {'id': 25, 'name': 'Canis_familiaris'}, {'id': 26, 'name': 'eutherian'}, {'id': 27, 'name': 'domestic_dog'}, {'id': 28, 'name': 'living_thing'}, {'id': 29, 'name': 'physical_object'}, {'id': 30, 'name': 'entity'}, {'id': 31, 'name': 'organism'}, {'id': 32, 'name': 'mammal'}]\n"
     ]
    }
   ],
   "source": [
    "vocabulary = []\n",
    "for token in graph[0]:\n",
    "    if token not in vocabulary:\n",
    "        vocabulary.append(token)\n",
    "json_1 = []\n",
    "for i in range(len(vocabulary)):\n",
    "    json_1.append({\"id\":i, \"name\": vocabulary[i]})\n",
    "\n",
    "vocabulary_size = len(vocabulary)\n",
    "print(json_1)"
   ]
  },
  {
   "cell_type": "code",
   "execution_count": 5,
   "metadata": {},
   "outputs": [],
   "source": [
    "json_2 = graph[1]\n",
    "for j in range(len(json_1)):\n",
    "    for i in range(len(graph[1])):    \n",
    "        if (json_1[j]['name'] ==  json_2[i]['source']):\n",
    "            json_2[i]['source'] = json_1[j]['id']\n",
    "        if (json_1[j]['name'] ==  json_2[i]['target']):\n",
    "            json_2[i]['target'] = json_1[j]['id']"
   ]
  },
  {
   "cell_type": "code",
   "execution_count": 6,
   "metadata": {},
   "outputs": [],
   "source": [
    "with open(\"wordnet2.json\",\"w\") as fh:\n",
    "    json.dump({\"nodes\":json_1,\"links\":json_2},fh)"
   ]
  },
  {
   "cell_type": "code",
   "execution_count": null,
   "metadata": {},
   "outputs": [],
   "source": []
  }
 ],
 "metadata": {
  "kernelspec": {
   "display_name": "Python 3",
   "language": "python",
   "name": "python3"
  },
  "language_info": {
   "codemirror_mode": {
    "name": "ipython",
    "version": 3
   },
   "file_extension": ".py",
   "mimetype": "text/x-python",
   "name": "python",
   "nbconvert_exporter": "python",
   "pygments_lexer": "ipython3",
   "version": "3.7.6"
  }
 },
 "nbformat": 4,
 "nbformat_minor": 4
}
