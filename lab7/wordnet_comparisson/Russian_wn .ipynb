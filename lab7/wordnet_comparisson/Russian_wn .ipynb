{
 "cells": [
  {
   "cell_type": "code",
   "execution_count": 2,
   "metadata": {},
   "outputs": [],
   "source": [
    "from wiki_ru_wordnet import WikiWordnet"
   ]
  },
  {
   "cell_type": "code",
   "execution_count": 3,
   "metadata": {},
   "outputs": [],
   "source": [
    "wikiwordnet = WikiWordnet()"
   ]
  },
  {
   "cell_type": "code",
   "execution_count": 4,
   "metadata": {},
   "outputs": [
    {
     "name": "stdout",
     "output_type": "stream",
     "text": [
      "{'пёсий', 'собачий', 'псовый'}\n",
      "{'домашнее животное'}\n",
      "{'домашнее животное'}\n",
      "{'волк', 'бирюк'}\n"
     ]
    }
   ],
   "source": [
    "synsets = wikiwordnet.get_synsets('собака')\n",
    "synset1 = synsets[0]\n",
    "for hypernym in wikiwordnet.get_hypernyms(synset1):\n",
    "    print({w.lemma() for w in hypernym.get_words()})"
   ]
  },
  {
   "cell_type": "code",
   "execution_count": 8,
   "metadata": {},
   "outputs": [
    {
     "name": "stdout",
     "output_type": "stream",
     "text": [
      "[<wiki_ru_wordnet.synset.Synset object at 0x0000021020AF3C88>, <wiki_ru_wordnet.synset.Synset object at 0x0000021020334988>]\n",
      "{'плохой', 'некачественный', 'нехороший', 'дурной', 'скверный'}\n"
     ]
    }
   ],
   "source": [
    "synsets = wikiwordnet.get_synsets('собачий')\n",
    "print(synsets)\n",
    "synset1 = synsets[0]\n",
    "for hypernym in wikiwordnet.get_hypernyms(synset1):\n",
    "    print({w.lemma() for w in hypernym.get_words()})"
   ]
  },
  {
   "cell_type": "code",
   "execution_count": 9,
   "metadata": {},
   "outputs": [
    {
     "name": "stdout",
     "output_type": "stream",
     "text": [
      "[<wiki_ru_wordnet.synset.Synset object at 0x0000021020334988>]\n",
      "{'звериный'}\n"
     ]
    }
   ],
   "source": [
    "synsets = wikiwordnet.get_synsets('псовый')\n",
    "print(synsets)\n",
    "synset1 = synsets[0]\n",
    "for hypernym in wikiwordnet.get_hypernyms(synset1):\n",
    "    print({w.lemma() for w in hypernym.get_words()})"
   ]
  },
  {
   "cell_type": "code",
   "execution_count": 11,
   "metadata": {},
   "outputs": [
    {
     "name": "stdout",
     "output_type": "stream",
     "text": [
      "[<wiki_ru_wordnet.synset.Synset object at 0x0000021020331188>, <wiki_ru_wordnet.synset.Synset object at 0x00000210203311C8>]\n"
     ]
    }
   ],
   "source": [
    "synsets = wikiwordnet.get_synsets('звериный')\n",
    "print(synsets)\n",
    "synset1 = synsets[0]\n",
    "for hypernym in wikiwordnet.get_hypernyms(synset1):\n",
    "    print({w.lemma() for w in hypernym.get_words()})"
   ]
  },
  {
   "cell_type": "code",
   "execution_count": null,
   "metadata": {},
   "outputs": [],
   "source": []
  },
  {
   "cell_type": "code",
   "execution_count": null,
   "metadata": {},
   "outputs": [],
   "source": []
  },
  {
   "cell_type": "code",
   "execution_count": 10,
   "metadata": {},
   "outputs": [
    {
     "name": "stdout",
     "output_type": "stream",
     "text": [
      "[<wiki_ru_wordnet.synset.Synset object at 0x0000021020754E48>, <wiki_ru_wordnet.synset.Synset object at 0x0000021020754E88>]\n",
      "{'животное'}\n"
     ]
    }
   ],
   "source": [
    "synsets = wikiwordnet.get_synsets('домашнее животное')\n",
    "print(synsets)\n",
    "synset1 = synsets[0]\n",
    "for hypernym in wikiwordnet.get_hypernyms(synset1):\n",
    "    print({w.lemma() for w in hypernym.get_words()})"
   ]
  },
  {
   "cell_type": "code",
   "execution_count": 12,
   "metadata": {},
   "outputs": [
    {
     "name": "stdout",
     "output_type": "stream",
     "text": [
      "[<wiki_ru_wordnet.synset.Synset object at 0x0000021020247288>, <wiki_ru_wordnet.synset.Synset object at 0x00000210202472C8>]\n",
      "{'существо', 'создание'}\n",
      "{'животное', 'тварь', 'скот', 'животина'}\n"
     ]
    }
   ],
   "source": [
    "synsets = wikiwordnet.get_synsets('животное')\n",
    "print(synsets)\n",
    "synset1 = synsets[0]\n",
    "for hypernym in wikiwordnet.get_hypernyms(synset1):\n",
    "    print({w.lemma() for w in hypernym.get_words()})"
   ]
  },
  {
   "cell_type": "code",
   "execution_count": 18,
   "metadata": {},
   "outputs": [
    {
     "name": "stdout",
     "output_type": "stream",
     "text": [
      "[<wiki_ru_wordnet.synset.Synset object at 0x00000210202472C8>]\n"
     ]
    }
   ],
   "source": [
    "synsets = wikiwordnet.get_synsets('животина')\n",
    "print(synsets)\n",
    "synset1 = synsets[0]\n",
    "for hypernym in wikiwordnet.get_hypernyms(synset1):\n",
    "    print({w.lemma() for w in hypernym.get_words()})"
   ]
  },
  {
   "cell_type": "code",
   "execution_count": null,
   "metadata": {},
   "outputs": [],
   "source": []
  },
  {
   "cell_type": "code",
   "execution_count": 22,
   "metadata": {},
   "outputs": [
    {
     "name": "stdout",
     "output_type": "stream",
     "text": [
      "[<wiki_ru_wordnet.synset.Synset object at 0x0000021020237948>, <wiki_ru_wordnet.synset.Synset object at 0x00000210209DED08>]\n",
      "{'хищник'}\n",
      "{'зверь', 'млекопитающее'}\n"
     ]
    }
   ],
   "source": [
    "synsets = wikiwordnet.get_synsets('бирюк')\n",
    "print(synsets)\n",
    "synset1 = synsets[0]\n",
    "for hypernym in wikiwordnet.get_hypernyms(synset1):\n",
    "    print({w.lemma() for w in hypernym.get_words()})"
   ]
  },
  {
   "cell_type": "code",
   "execution_count": 24,
   "metadata": {},
   "outputs": [
    {
     "name": "stdout",
     "output_type": "stream",
     "text": [
      "[<wiki_ru_wordnet.synset.Synset object at 0x0000021020285948>, <wiki_ru_wordnet.synset.Synset object at 0x0000021020285988>, <wiki_ru_wordnet.synset.Synset object at 0x00000210202859C8>]\n",
      "{'позвоночное'}\n"
     ]
    }
   ],
   "source": [
    "synsets = wikiwordnet.get_synsets('зверь')\n",
    "print(synsets)\n",
    "synset1 = synsets[0]\n",
    "for hypernym in wikiwordnet.get_hypernyms(synset1):\n",
    "    print({w.lemma() for w in hypernym.get_words()})"
   ]
  },
  {
   "cell_type": "code",
   "execution_count": 27,
   "metadata": {},
   "outputs": [
    {
     "name": "stdout",
     "output_type": "stream",
     "text": [
      "[<wiki_ru_wordnet.synset.Synset object at 0x00000210202C8388>]\n",
      "{'животное'}\n",
      "{'живот'}\n"
     ]
    }
   ],
   "source": [
    "synsets = wikiwordnet.get_synsets('позвоночное')\n",
    "print(synsets)\n",
    "synset1 = synsets[0]\n",
    "for hypernym in wikiwordnet.get_hypernyms(synset1):\n",
    "    print({w.lemma() for w in hypernym.get_words()})"
   ]
  }
 ],
 "metadata": {
  "kernelspec": {
   "display_name": "Python 3",
   "language": "python",
   "name": "python3"
  },
  "language_info": {
   "codemirror_mode": {
    "name": "ipython",
    "version": 3
   },
   "file_extension": ".py",
   "mimetype": "text/x-python",
   "name": "python",
   "nbconvert_exporter": "python",
   "pygments_lexer": "ipython3",
   "version": "3.7.6"
  }
 },
 "nbformat": 4,
 "nbformat_minor": 4
}
